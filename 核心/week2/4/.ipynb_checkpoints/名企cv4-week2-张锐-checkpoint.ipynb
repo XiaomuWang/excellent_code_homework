{
 "cells": [
  {
   "cell_type": "code",
   "execution_count": 1,
   "metadata": {},
   "outputs": [],
   "source": [
    "import imageio\n",
    "import numpy\n",
    "import scipy.special\n",
    "import matplotlib.pyplot\n",
    "%matplotlib inline\n",
    "\n",
    "# 该神经网络有三层，输入层、隐藏层和输出层\n",
    "class neuralNetwork:\n",
    "    \n",
    "    \n",
    "    # 初始化神经网络\n",
    "    def __init__(self, inputnodes, hiddennodes, outputnodes, learningrate):\n",
    "        # 设置每层节点数量\n",
    "        self.inodes = inputnodes\n",
    "        self.hnodes = hiddennodes\n",
    "        self.onodes = outputnodes\n",
    "        \n",
    "        # 权重形式\n",
    "        # w11 w21\n",
    "        # w21 w22 etc，故对于W_input_hidden来说列数为inodes,行数为hnodes\n",
    "        # self.wih = numpy.random.rand(self.hnodes, self.inodes) - 0.5\n",
    "        # self.who = numpy.random.rand(self.onodes, self.hnodes) - 0.5\n",
    "\n",
    "        # 采用正太分布优化权重取值,标准差为1/(传入连接数目的0.5次方)\n",
    "        self.wih = numpy.random.normal(0.0, pow(self.inodes, -0.5), (self.hnodes, self.inodes))\n",
    "        self.who = numpy.random.normal(0.0, pow(self.hnodes, -0.5), (self.onodes, self.hnodes))\n",
    "\n",
    "        # 学习率\n",
    "        self.lr = learningrate\n",
    "        \n",
    "        # 激活函数\n",
    "        self.activation_function = lambda x: scipy.special.expit(x)       \n",
    "        pass\n",
    "\n",
    "    \n",
    "    # 根据正确的输入值和目标值训练神经网络，找到更合适的权重\n",
    "    def train(self, inputs_list, targets_list):\n",
    "        inputs = numpy.array(inputs_list, ndmin=2).T # 列表转化为二维数组\n",
    "        targets = numpy.array(targets_list, ndmin=2).T\n",
    "        \n",
    "        hidden_inputs = numpy.dot(self.wih, inputs)\n",
    "        hidden_outputs = self.activation_function(hidden_inputs)\n",
    "        \n",
    "        final_inputs = numpy.dot(self.who, hidden_outputs)\n",
    "        final_outputs = self.activation_function(final_inputs)\n",
    "        output_errors = targets - final_outputs\n",
    "        # errors_hidden = W_hidden_output.T error_output\n",
    "        hidden_errors = numpy.dot(self.who.T, output_errors) \n",
    "        self.who += self.lr * numpy.dot((output_errors * final_outputs * (1.0 - final_outputs)), numpy.transpose(hidden_outputs))\n",
    "        self.wih += self.lr * numpy.dot((hidden_errors * hidden_outputs * (1.0 - hidden_outputs)), numpy.transpose(inputs))       \n",
    "        pass\n",
    "\n",
    "    \n",
    "    # 根据输入求输出\n",
    "    def query(self, inputs_list):\n",
    "        inputs = numpy.array(inputs_list, ndmin=2).T        \n",
    "        # X_hidden = W_input_hidden I\n",
    "        hidden_inputs = numpy.dot(self.wih, inputs)\n",
    "        # O_hidden = sigmoid(X_hidden)\n",
    "        hidden_outputs = self.activation_function(hidden_inputs)        \n",
    "        # 输出层计算\n",
    "        final_inputs = numpy.dot(self.who, hidden_outputs)\n",
    "        final_outputs = self.activation_function(final_inputs)\n",
    "        return final_outputs"
   ]
  },
  {
   "cell_type": "code",
   "execution_count": 2,
   "metadata": {},
   "outputs": [],
   "source": [
    "# 训练神经网络\n",
    "input_nodes = 784 # 数字的像素为28x28,故输入节点为784个\n",
    "hidden_nodes = 200\n",
    "output_nodes = 10 # 表示0~9，10个数字\n",
    "learning_rate = 0.1\n",
    "n = neuralNetwork(input_nodes,hidden_nodes,output_nodes, learning_rate)\n",
    "\n",
    "training_data_file = open(\"my/mnist_train_100.csv\", 'r') #训练数据\n",
    "training_data_list = training_data_file.readlines()\n",
    "training_data_file.close()\n",
    "epochs = 10\n",
    "\n",
    "for e in range(epochs):\n",
    "    for record in training_data_list:\n",
    "        all_values = record.split(',')\n",
    "        inputs = (numpy.asfarray(all_values[1:]) / 255.0 * 0.99) + 0.01 #  输入数据要在[0.01,1]之内\n",
    "        targets = numpy.zeros(output_nodes) + 0.01  # 初始10个为0.01的列表\n",
    "        targets[int(all_values[0])] = 0.99  # 目标值为0.99\n",
    "        n.train(inputs, targets) # 调用神经网络进行训练\n",
    "        pass\n",
    "    pass"
   ]
  },
  {
   "cell_type": "markdown",
   "metadata": {},
   "source": [
    "test with our own image "
   ]
  },
  {
   "cell_type": "code",
   "execution_count": 10,
   "metadata": {},
   "outputs": [
    {
     "name": "stdout",
     "output_type": "stream",
     "text": [
      "min =  0.01\n",
      "max =  1.0\n",
      "[[0.04250729]\n",
      " [0.03326466]\n",
      " [0.04975957]\n",
      " [0.05935061]\n",
      " [0.14770976]\n",
      " [0.04557006]\n",
      " [0.16996388]\n",
      " [0.11199975]\n",
      " [0.01318965]\n",
      " [0.04924671]]\n",
      "network says  6\n"
     ]
    },
    {
     "data": {
      "image/png": "[encoded data removed]",
      "text/plain": [
       "<Figure size 432x288 with 1 Axes>"
      ]
     },
     "metadata": {
      "needs_background": "light"
     },
     "output_type": "display_data"
    }
   ],
   "source": [
    "# 测试神经网络\n",
    "\n",
    "img_array = imageio.imread('my/2828_my_own_6.png', as_gray=True)\n",
    "img_data  = 255.0 - img_array.reshape(784)\n",
    "img_data = (img_data / 255.0 * 0.99) + 0.01\n",
    "print(\"min = \", numpy.min(img_data))\n",
    "print(\"max = \", numpy.max(img_data))\n",
    "matplotlib.pyplot.imshow(img_data.reshape(28,28), cmap='Greys', interpolation='None')\n",
    "outputs = n.query(img_data)\n",
    "print (outputs)\n",
    " # 找到输出数组中最大值的索引，其对应的就是实际识别的数字\n",
    "label = numpy.argmax(outputs)\n",
    "print(\"network says \", label)\n"
   ]
  },
  {
   "cell_type": "code",
   "execution_count": null,
   "metadata": {},
   "outputs": [],
   "source": []
  }
 ],
 "metadata": {
  "kernelspec": {
   "display_name": "Python 3",
   "language": "python",
   "name": "python3"
  },
  "language_info": {
   "codemirror_mode": {
    "name": "ipython",
    "version": 3
   },
   "file_extension": ".py",
   "mimetype": "text/x-python",
   "name": "python",
   "nbconvert_exporter": "python",
   "pygments_lexer": "ipython3",
   "version": "3.7.4"
  }
 },
 "nbformat": 4,
 "nbformat_minor": 1
}
