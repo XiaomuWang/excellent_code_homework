{
 "cells": [
  {
   "cell_type": "code",
   "execution_count": 20,
   "metadata": {},
   "outputs": [
    {
     "name": "stdout",
     "output_type": "stream",
     "text": [
      "Warning: ret = False for camera_cal_pic/calibration1.jpg\n",
      "Warning: ret = False for camera_cal_pic/calibration4.jpg\n",
      "Warning: ret = False for camera_cal_pic/calibration5.jpg\n",
      "mtx, dist [[1.15739390e+03 0.00000000e+00 6.62831413e+02]\n",
      " [0.00000000e+00 1.15204489e+03 3.87865116e+02]\n",
      " [0.00000000e+00 0.00000000e+00 1.00000000e+00]] [[-2.45376248e-01 -4.47616386e-02 -5.13462478e-04  5.26921208e-05\n",
      "   4.57687912e-02]]\n"
     ]
    }
   ],
   "source": [
    "#coding:utf-8\n",
    "\"\"\"\n",
    "相机校正\n",
    "学会用棋盘格进行相机校正（张正友标定法）\n",
    "熟悉opencv相关函数\n",
    "cv2.findChessboardCorners\n",
    "cv2.cornerSubPix\n",
    "cv2.drawChessboardCorners\n",
    "cv2.calibrateCamera\n",
    "cv2.undistort\n",
    "\"\"\"\n",
    "import numpy as np\n",
    "import cv2\n",
    "\n",
    "def calibrate_camera():\n",
    "    #每个校准图像映射到棋盘角到数量\n",
    "    objPoints = {\n",
    "        1: (9, 6),\n",
    "        2: (9, 6),\n",
    "        3: (9, 6),\n",
    "        4: (9, 6),\n",
    "        5: (9, 6),\n",
    "        6: (9, 6),\n",
    "        7: (9, 6),\n",
    "        8: (9, 6),\n",
    "        9: (9, 6),\n",
    "        10: (9, 6),\n",
    "        11: (9, 6),\n",
    "        12: (9, 6),\n",
    "        13: (9, 6),\n",
    "        14: (9, 6),\n",
    "        15: (9, 6),\n",
    "        16: (9, 6),\n",
    "        17: (9, 6),\n",
    "        18: (9, 6),\n",
    "        19: (9, 6),\n",
    "        20: (9, 6),\n",
    "    }\n",
    "    #目标点空间坐标\n",
    "    obj3DList = []\n",
    "    \n",
    "    #图像中棋盘格中的2D点\n",
    "    obj2DList = []\n",
    "\n",
    "    for k in objPoints:\n",
    "        nx, ny = objPoints[k]\n",
    "        ######棋盘格对应3D坐标点，x为0-8， y为0-4（对应棋盘格横着9个点，纵着5个点）， z = 0\n",
    "        obj = np.zeros((nx * ny, 3), np.float32)\n",
    "\n",
    "        obj[:, :2] = np.mgrid[0: nx, 0: ny].T.reshape(-1, 2)\n",
    "\n",
    "        fname = 'camera_cal_pic/calibration%s.jpg' % str(k)\n",
    "        img = cv2.imread(fname)\n",
    "        #将图像转换为灰度图\n",
    "        gray = cv2.cvtColor(img, cv2.COLOR_BGR2GRAY)\n",
    "        \n",
    "        ########查找角点，利用cv2.findChessboardCorners函数，函数返回\n",
    "        ####ret：是否查找到； corners：角点坐标\n",
    "        #####################填空1 （一行代码）#####################################\n",
    "        ret, corners = cv2.findChessboardCorners(gray, (nx, ny), None)\n",
    "        \n",
    "        #########################################################################\n",
    "\n",
    "        if ret == True:\n",
    "            obj3DList.append(obj)\n",
    "            #利用cv2.cornerSubPix可以更精细的查找角点坐标，如果查找到了，用这个，没查找到用cv2.findChessboardCorners中找到的角点\n",
    "            corners2 = cv2.cornerSubPix(gray, corners, (5, 5), (-1, -1), criteria=(cv2.TERM_CRITERIA_MAX_ITER | cv2.TERM_CRITERIA_EPS, 30, 0.001))\n",
    "            if corners2.any():\n",
    "                obj2DList.append(corners2)\n",
    "            else:\n",
    "                obj2DList.append(corners)\n",
    "            #可以利用cv2.drawChessboardCorners显示每张图查找到的角点的坐标\n",
    "            #cv2.drawChessboardCorners(img, (nx, ny), corners, ret)\n",
    "            #cv2.imshow(\"img\", img)\n",
    "            #cv2.waitKey(0)\n",
    "        else:\n",
    "            print('Warning: ret = %s for %s' % (ret, fname))\n",
    "\n",
    "    #利用图像中2d点和空间3d点计算旋转和平移矩阵，函数使用cv2.calibrateCamera，返回mtx（相机内参矩阵）, dist（畸变矩阵）\n",
    "    ################填空2（一行代码）################################################\n",
    "    # 返回值包括相机内参矩阵mtx、畸变矩阵dist、旋转矢量rvecs、平移矢量tvecs\n",
    "    ret, mtx, dist, rvecs, tvecs = cv2.calibrateCamera(obj3DList, obj2DList, gray.shape[::-1], None, None) \n",
    "    ##############################################################################\n",
    "\n",
    "    return mtx, dist\n",
    "\n",
    "mtx, dist = calibrate_camera()\n",
    "print (\"mtx, dist\", mtx, dist)\n",
    "# 保存相机内参矩阵、畸变矩阵\n",
    "np.savetxt('mtx.out', mtx)\n",
    "np.savetxt('dist.out', dist)"
   ]
  },
  {
   "cell_type": "code",
   "execution_count": 21,
   "metadata": {},
   "outputs": [
    {
     "data": {
      "text/plain": [
       "True"
      ]
     },
     "execution_count": 21,
     "metadata": {},
     "output_type": "execute_result"
    }
   ],
   "source": [
    "# 加载相机内参矩阵，畸变矩阵\n",
    "# mtx = np.loadtxt('mtx.out')\n",
    "# dist = np.loadtxt('dist.out')\n",
    "img = cv2.imread('./camera_cal_pic/calibration1.jpg')\n",
    "\n",
    "##########将img进行校正，利用cv2.undistort这个函数，根据相机内参和外参进行相机校正，校正后的图像为dst\n",
    "\n",
    "####################填空3（一行代码）#################################################\n",
    "dst = cv2.undistort(img, mtx, dist, None, mtx)   \n",
    "\n",
    "###################################################################################\n",
    "\n",
    "cv2.imwrite('./camera_cal_pic_undistort/calibration1_undistort1.jpg', dst)"
   ]
  },
  {
   "cell_type": "code",
   "execution_count": null,
   "metadata": {},
   "outputs": [],
   "source": []
  }
 ],
 "metadata": {
  "kernelspec": {
   "display_name": "Python 3",
   "language": "python",
   "name": "python3"
  },
  "language_info": {
   "codemirror_mode": {
    "name": "ipython",
    "version": 3
   },
   "file_extension": ".py",
   "mimetype": "text/x-python",
   "name": "python",
   "nbconvert_exporter": "python",
   "pygments_lexer": "ipython3",
   "version": "3.7.4"
  }
 },
 "nbformat": 4,
 "nbformat_minor": 4
}
